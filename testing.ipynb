{
 "cells": [
  {
   "cell_type": "markdown",
   "id": "14060dc6",
   "metadata": {},
   "source": [
    "# Classification/Testing\n",
    "- Run this script to classify images in the testing directory specified as `test_dir` using the master catalog generated from training\n",
    "- Outputs will be generated in the `outputs/classification_results` directory and will include:\n",
    "    - `data` directory with `.json` and `.txt` files that have breakdowns for each image classified\n",
    "    - `.csv` file containing overall pixel area and layer thickness breakdowns for all images \n",
    "    - `images` directory with visualizations of each test image and its classified layer results as a `.png` file\n",
    "      - `images` enabled by default but can be optionally disabled if unneeded to speed up processing of large image datasets\n",
    "\n",
    "Final data outputs are `.csv` and `.json` for easy post-processing and statistical analysis using data analytics tools such as Pandas, R, Excel, or MATLAB.\n",
    "\n",
    "Notes:\n",
    "  - `test_dir` is the directory where images to be classified should be located\n",
    "  - `master_cat_file` in `base_args` should be the file path for the master catalog "
   ]
  },
  {
   "cell_type": "code",
   "execution_count": 2,
   "id": "429f8a2a-1f84-41eb-a212-f75cea5f4ac5",
   "metadata": {},
   "outputs": [
    {
     "name": "stdout",
     "output_type": "stream",
     "text": [
      "Found 1 images to process\n",
      "\n",
      "============================================================\n",
      "Processing image 1/1: Fig_4f.jpg\n",
      "============================================================\n",
      "Processing image: Fig_4f\n",
      "Original image shape: (3488, 4632, 3)\n",
      "Applying bilateral filtering...\n",
      "Detecting background regions automatically...\n",
      "Fitting and subtracting background...\n",
      "Applying second round of bilateral filtering...\n",
      "Processing 16156416 valid pixels out of 16156416 total pixels\n",
      "Available layers in master catalog: [0, 1, 2, 3]\n",
      "Loaded data for 0 layers (cluster index 0)\n",
      "Loaded data for 1 layers (cluster index 1)\n",
      "Loaded data for 2 layers (cluster index 2)\n",
      "Loaded data for 3 layers (cluster index 3)\n",
      "Calculating probabilities for 16156416 valid pixels using GPU...\n",
      "GPU probability calculation completed in 0.25 seconds\n",
      "Time elapsed: 3.48 seconds\n",
      "Saved visualization to ./outputs/classification_results/images/Fig_4f_analysis.png\n",
      "Saved data to ./outputs/classification_results/data/Fig_4f_data.json and ./outputs/classification_results/data/Fig_4f_summary.txt\n",
      "Results saved to ./outputs/classification_results/\n",
      "✓ Successfully processed Fig_4f.jpg\n",
      "\n",
      "============================================================\n",
      "Batch processing complete!\n",
      "Results saved to ./outputs/classification_results/\n",
      "Successfully consolidated 1 JSON files into outputs/classification_results/consolidated_data.csv\n",
      "CSV contains 17 columns\n"
     ]
    }
   ],
   "source": [
    "import os\n",
    "import glob\n",
    "from utils.clustering_core import testing\n",
    "from utils.data_management import consolidate_json_to_csv\n",
    "\n",
    "\n",
    "    \n",
    "# Directory containing test images\n",
    "test_dir = 'image_data/testing/'\n",
    "\n",
    "# Common parameters for all images\n",
    "base_args = {\n",
    "    'master_cat_file': \"outputs/training/master_catalog/mos2_on_pdms_master_catalog.npz\",\n",
    "    'comp_rate': None,\n",
    "    'cluster_count': None,  # Will use all available clusters\n",
    "    'show_plot': False,  # Set to True to display the classification results in notebook output\n",
    "    # 'save_images': False  # Set to False will skip saving the classification visualizations as images\n",
    "}\n",
    "\n",
    "# Get all image files (common formats)\n",
    "image_extensions = ['*.jpg', '*.jpeg', '*.png', '*.bmp', '*.tif', '*.tiff']\n",
    "image_files = []\n",
    "for ext in image_extensions:\n",
    "    image_files.extend(glob.glob(os.path.join(test_dir, ext)))\n",
    "    image_files.extend(glob.glob(os.path.join(test_dir, ext.upper())))\n",
    "\n",
    "# Remove duplicates and sort\n",
    "image_files = sorted(list(set(image_files)))\n",
    "\n",
    "if len(image_files) == 0:\n",
    "    print(f\"No image files found in {test_dir}\")\n",
    "else:\n",
    "    print(f\"Found {len(image_files)} images to process\")\n",
    "    \n",
    "    # Process each image\n",
    "    for i, img_file in enumerate(image_files, 1):\n",
    "        print(f\"\\n{'='*60}\")\n",
    "        print(f\"Processing image {i}/{len(image_files)}: {os.path.basename(img_file)}\")\n",
    "        print(f\"{'='*60}\")\n",
    "        \n",
    "        try:\n",
    "            # Create args for this specific image\n",
    "            args = base_args.copy()\n",
    "            args['img_file'] = img_file\n",
    "            \n",
    "            # Process the image\n",
    "            results = testing(**args)\n",
    "            \n",
    "            print(f\"✓ Successfully processed {os.path.basename(img_file)}\")\n",
    "            \n",
    "        except Exception as e:\n",
    "            print(f\"✗ Error processing {os.path.basename(img_file)}: {str(e)}\")\n",
    "            continue\n",
    "    \n",
    "    print(f\"\\n{'='*60}\")\n",
    "    print(f\"Batch processing complete!\")\n",
    "    print(f\"Results saved to ./outputs/classification_results/\")\n",
    "\n",
    "    # Create csv from json files\n",
    "    input_directory = \"./outputs/classification_results/data\"\n",
    "    output_directory = \"./outputs/classification_results\"\n",
    "    consolidate_json_to_csv(input_directory, output_directory)"
   ]
  },
  {
   "cell_type": "code",
   "execution_count": null,
   "id": "94f6f9b4",
   "metadata": {},
   "outputs": [],
   "source": []
  }
 ],
 "metadata": {
  "kernelspec": {
   "display_name": "tag",
   "language": "python",
   "name": "python3"
  },
  "language_info": {
   "codemirror_mode": {
    "name": "ipython",
    "version": 3
   },
   "file_extension": ".py",
   "mimetype": "text/x-python",
   "name": "python",
   "nbconvert_exporter": "python",
   "pygments_lexer": "ipython3",
   "version": "3.11.9"
  },
  "widgets": {
   "application/vnd.jupyter.widget-state+json": {
    "state": {},
    "version_major": 2,
    "version_minor": 0
   }
  }
 },
 "nbformat": 4,
 "nbformat_minor": 5
}
